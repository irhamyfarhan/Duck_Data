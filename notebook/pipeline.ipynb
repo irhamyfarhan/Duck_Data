{
 "cells": [
  {
   "cell_type": "code",
   "execution_count": 1,
   "id": "9d9cccc1",
   "metadata": {},
   "outputs": [
    {
     "name": "stdout",
     "output_type": "stream",
     "text": [
      "Collecting dlt\n",
      "  Downloading dlt-1.15.0-py3-none-any.whl.metadata (12 kB)\n",
      "Collecting click>=7.1 (from dlt)\n",
      "  Downloading click-8.2.1-py3-none-any.whl.metadata (2.5 kB)\n",
      "Collecting fsspec>=2022.4.0 (from dlt)\n",
      "  Downloading fsspec-2025.7.0-py3-none-any.whl.metadata (12 kB)\n",
      "Collecting gitpython>=3.1.29 (from dlt)\n",
      "  Downloading gitpython-3.1.45-py3-none-any.whl.metadata (13 kB)\n",
      "Collecting giturlparse>=0.10.0 (from dlt)\n",
      "  Downloading giturlparse-0.12.0-py2.py3-none-any.whl.metadata (4.5 kB)\n",
      "Collecting hexbytes>=0.2.2 (from dlt)\n",
      "  Downloading hexbytes-1.3.1-py3-none-any.whl.metadata (3.3 kB)\n",
      "Collecting humanize>=4.4.0 (from dlt)\n",
      "  Downloading humanize-4.12.3-py3-none-any.whl.metadata (7.8 kB)\n",
      "Collecting jsonpath-ng>=1.5.3 (from dlt)\n",
      "  Downloading jsonpath_ng-1.7.0-py3-none-any.whl.metadata (18 kB)\n",
      "Collecting orjson!=3.10.1,!=3.9.11,!=3.9.12,!=3.9.13,!=3.9.14,<4,>=3.6.7 (from dlt)\n",
      "  Downloading orjson-3.11.1-cp312-cp312-manylinux_2_17_x86_64.manylinux2014_x86_64.whl.metadata (42 kB)\n",
      "Requirement already satisfied: packaging>=21.1 in /workspaces/Duck_Data/.venv/lib/python3.12/site-packages (from dlt) (25.0)\n",
      "Collecting pathvalidate>=2.5.2 (from dlt)\n",
      "  Downloading pathvalidate-3.3.1-py3-none-any.whl.metadata (12 kB)\n",
      "Collecting pendulum>=2.1.2 (from dlt)\n",
      "  Downloading pendulum-3.1.0-cp312-cp312-manylinux_2_17_x86_64.manylinux2014_x86_64.whl.metadata (6.8 kB)\n",
      "Collecting pluggy>=1.3.0 (from dlt)\n",
      "  Downloading pluggy-1.6.0-py3-none-any.whl.metadata (4.8 kB)\n",
      "Collecting pytz>=2022.6 (from dlt)\n",
      "  Downloading pytz-2025.2-py2.py3-none-any.whl.metadata (22 kB)\n",
      "Collecting pyyaml>=5.4.1 (from dlt)\n",
      "  Downloading PyYAML-6.0.2-cp312-cp312-manylinux_2_17_x86_64.manylinux2014_x86_64.whl.metadata (2.1 kB)\n",
      "Collecting requests>=2.26.0 (from dlt)\n",
      "  Downloading requests-2.32.4-py3-none-any.whl.metadata (4.9 kB)\n",
      "Collecting requirements-parser>=0.5.0 (from dlt)\n",
      "  Downloading requirements_parser-0.13.0-py3-none-any.whl.metadata (4.7 kB)\n",
      "Collecting rich-argparse>=1.6.0 (from dlt)\n",
      "  Downloading rich_argparse-1.7.1-py3-none-any.whl.metadata (14 kB)\n",
      "Collecting semver>=3.0.0 (from dlt)\n",
      "  Downloading semver-3.0.4-py3-none-any.whl.metadata (6.8 kB)\n",
      "Collecting setuptools>=65.6.0 (from dlt)\n",
      "  Using cached setuptools-80.9.0-py3-none-any.whl.metadata (6.6 kB)\n",
      "Collecting simplejson>=3.17.5 (from dlt)\n",
      "  Downloading simplejson-3.20.1-cp312-cp312-manylinux_2_5_x86_64.manylinux1_x86_64.manylinux_2_17_x86_64.manylinux2014_x86_64.whl.metadata (3.2 kB)\n",
      "Collecting sqlglot>=25.4.0 (from dlt)\n",
      "  Downloading sqlglot-27.6.0-py3-none-any.whl.metadata (19 kB)\n",
      "Collecting tenacity>=8.0.2 (from dlt)\n",
      "  Downloading tenacity-9.1.2-py3-none-any.whl.metadata (1.2 kB)\n",
      "Collecting tomlkit>=0.11.3 (from dlt)\n",
      "  Downloading tomlkit-0.13.3-py3-none-any.whl.metadata (2.8 kB)\n",
      "Collecting typing-extensions>=4.8.0 (from dlt)\n",
      "  Downloading typing_extensions-4.14.1-py3-none-any.whl.metadata (3.0 kB)\n",
      "Collecting tzdata>=2022.1 (from dlt)\n",
      "  Downloading tzdata-2025.2-py2.py3-none-any.whl.metadata (1.4 kB)\n",
      "Collecting gitdb<5,>=4.0.1 (from gitpython>=3.1.29->dlt)\n",
      "  Downloading gitdb-4.0.12-py3-none-any.whl.metadata (1.2 kB)\n",
      "Collecting smmap<6,>=3.0.1 (from gitdb<5,>=4.0.1->gitpython>=3.1.29->dlt)\n",
      "  Downloading smmap-5.0.2-py3-none-any.whl.metadata (4.3 kB)\n",
      "Collecting ply (from jsonpath-ng>=1.5.3->dlt)\n",
      "  Downloading ply-3.11-py2.py3-none-any.whl.metadata (844 bytes)\n",
      "Requirement already satisfied: python-dateutil>=2.6 in /workspaces/Duck_Data/.venv/lib/python3.12/site-packages (from pendulum>=2.1.2->dlt) (2.9.0.post0)\n",
      "Requirement already satisfied: six>=1.5 in /workspaces/Duck_Data/.venv/lib/python3.12/site-packages (from python-dateutil>=2.6->pendulum>=2.1.2->dlt) (1.17.0)\n",
      "Collecting charset_normalizer<4,>=2 (from requests>=2.26.0->dlt)\n",
      "  Downloading charset_normalizer-3.4.2-cp312-cp312-manylinux_2_17_x86_64.manylinux2014_x86_64.whl.metadata (35 kB)\n",
      "Collecting idna<4,>=2.5 (from requests>=2.26.0->dlt)\n",
      "  Downloading idna-3.10-py3-none-any.whl.metadata (10 kB)\n",
      "Collecting urllib3<3,>=1.21.1 (from requests>=2.26.0->dlt)\n",
      "  Downloading urllib3-2.5.0-py3-none-any.whl.metadata (6.5 kB)\n",
      "Collecting certifi>=2017.4.17 (from requests>=2.26.0->dlt)\n",
      "  Downloading certifi-2025.8.3-py3-none-any.whl.metadata (2.4 kB)\n",
      "Collecting rich>=11.0.0 (from rich-argparse>=1.6.0->dlt)\n",
      "  Downloading rich-14.1.0-py3-none-any.whl.metadata (18 kB)\n",
      "Collecting markdown-it-py>=2.2.0 (from rich>=11.0.0->rich-argparse>=1.6.0->dlt)\n",
      "  Downloading markdown_it_py-3.0.0-py3-none-any.whl.metadata (6.9 kB)\n",
      "Requirement already satisfied: pygments<3.0.0,>=2.13.0 in /workspaces/Duck_Data/.venv/lib/python3.12/site-packages (from rich>=11.0.0->rich-argparse>=1.6.0->dlt) (2.19.2)\n",
      "Collecting mdurl~=0.1 (from markdown-it-py>=2.2.0->rich>=11.0.0->rich-argparse>=1.6.0->dlt)\n",
      "  Downloading mdurl-0.1.2-py3-none-any.whl.metadata (1.6 kB)\n",
      "Downloading dlt-1.15.0-py3-none-any.whl (1.0 MB)\n",
      "\u001b[2K   \u001b[90m━━━━━━━━━━━━━━━━━━━━━━━━━━━━━━━━━━━━━━━━\u001b[0m \u001b[32m1.0/1.0 MB\u001b[0m \u001b[31m28.0 MB/s\u001b[0m  \u001b[33m0:00:00\u001b[0m\n",
      "\u001b[?25hDownloading orjson-3.11.1-cp312-cp312-manylinux_2_17_x86_64.manylinux2014_x86_64.whl (131 kB)\n",
      "Downloading click-8.2.1-py3-none-any.whl (102 kB)\n",
      "Downloading fsspec-2025.7.0-py3-none-any.whl (199 kB)\n",
      "Downloading gitpython-3.1.45-py3-none-any.whl (208 kB)\n",
      "Downloading gitdb-4.0.12-py3-none-any.whl (62 kB)\n",
      "Downloading smmap-5.0.2-py3-none-any.whl (24 kB)\n",
      "Downloading giturlparse-0.12.0-py2.py3-none-any.whl (15 kB)\n",
      "Downloading hexbytes-1.3.1-py3-none-any.whl (5.1 kB)\n",
      "Downloading humanize-4.12.3-py3-none-any.whl (128 kB)\n",
      "Downloading jsonpath_ng-1.7.0-py3-none-any.whl (30 kB)\n",
      "Downloading pathvalidate-3.3.1-py3-none-any.whl (24 kB)\n",
      "Downloading pendulum-3.1.0-cp312-cp312-manylinux_2_17_x86_64.manylinux2014_x86_64.whl (351 kB)\n",
      "Downloading pluggy-1.6.0-py3-none-any.whl (20 kB)\n",
      "Downloading pytz-2025.2-py2.py3-none-any.whl (509 kB)\n",
      "Downloading PyYAML-6.0.2-cp312-cp312-manylinux_2_17_x86_64.manylinux2014_x86_64.whl (767 kB)\n",
      "\u001b[2K   \u001b[90m━━━━━━━━━━━━━━━━━━━━━━━━━━━━━━━━━━━━━━━━\u001b[0m \u001b[32m767.5/767.5 kB\u001b[0m \u001b[31m23.9 MB/s\u001b[0m  \u001b[33m0:00:00\u001b[0m\n",
      "\u001b[?25hDownloading requests-2.32.4-py3-none-any.whl (64 kB)\n",
      "Downloading charset_normalizer-3.4.2-cp312-cp312-manylinux_2_17_x86_64.manylinux2014_x86_64.whl (148 kB)\n",
      "Downloading idna-3.10-py3-none-any.whl (70 kB)\n",
      "Downloading urllib3-2.5.0-py3-none-any.whl (129 kB)\n",
      "Downloading certifi-2025.8.3-py3-none-any.whl (161 kB)\n",
      "Downloading requirements_parser-0.13.0-py3-none-any.whl (14 kB)\n",
      "Downloading rich_argparse-1.7.1-py3-none-any.whl (25 kB)\n",
      "Downloading rich-14.1.0-py3-none-any.whl (243 kB)\n",
      "Downloading markdown_it_py-3.0.0-py3-none-any.whl (87 kB)\n",
      "Downloading mdurl-0.1.2-py3-none-any.whl (10.0 kB)\n",
      "Downloading semver-3.0.4-py3-none-any.whl (17 kB)\n",
      "Using cached setuptools-80.9.0-py3-none-any.whl (1.2 MB)\n",
      "Downloading simplejson-3.20.1-cp312-cp312-manylinux_2_5_x86_64.manylinux1_x86_64.manylinux_2_17_x86_64.manylinux2014_x86_64.whl (152 kB)\n",
      "Downloading sqlglot-27.6.0-py3-none-any.whl (496 kB)\n",
      "Downloading tenacity-9.1.2-py3-none-any.whl (28 kB)\n",
      "Downloading tomlkit-0.13.3-py3-none-any.whl (38 kB)\n",
      "Downloading typing_extensions-4.14.1-py3-none-any.whl (43 kB)\n",
      "Downloading tzdata-2025.2-py2.py3-none-any.whl (347 kB)\n",
      "Downloading ply-3.11-py2.py3-none-any.whl (49 kB)\n",
      "Installing collected packages: pytz, ply, urllib3, tzdata, typing-extensions, tomlkit, tenacity, sqlglot, smmap, simplejson, setuptools, semver, requirements-parser, pyyaml, pluggy, pathvalidate, orjson, mdurl, jsonpath-ng, idna, humanize, hexbytes, giturlparse, fsspec, click, charset_normalizer, certifi, requests, pendulum, markdown-it-py, gitdb, rich, gitpython, rich-argparse, dlt\n",
      "\u001b[2K   \u001b[90m━━━━━━━━━━━━━━━━━━━━━━━━━━━━━━━━━━━━━━━━\u001b[0m \u001b[32m35/35\u001b[0m [dlt]32m34/35\u001b[0m [dlt]]lum]ormalizer]\n",
      "\u001b[1A\u001b[2KSuccessfully installed certifi-2025.8.3 charset_normalizer-3.4.2 click-8.2.1 dlt-1.15.0 fsspec-2025.7.0 gitdb-4.0.12 gitpython-3.1.45 giturlparse-0.12.0 hexbytes-1.3.1 humanize-4.12.3 idna-3.10 jsonpath-ng-1.7.0 markdown-it-py-3.0.0 mdurl-0.1.2 orjson-3.11.1 pathvalidate-3.3.1 pendulum-3.1.0 pluggy-1.6.0 ply-3.11 pytz-2025.2 pyyaml-6.0.2 requests-2.32.4 requirements-parser-0.13.0 rich-14.1.0 rich-argparse-1.7.1 semver-3.0.4 setuptools-80.9.0 simplejson-3.20.1 smmap-5.0.2 sqlglot-27.6.0 tenacity-9.1.2 tomlkit-0.13.3 typing-extensions-4.14.1 tzdata-2025.2 urllib3-2.5.0\n"
     ]
    }
   ],
   "source": [
    "!pip install dlt "
   ]
  },
  {
   "cell_type": "code",
   "execution_count": 2,
   "id": "c96dd59e",
   "metadata": {},
   "outputs": [
    {
     "name": "stdout",
     "output_type": "stream",
     "text": [
      "Collecting duckdb\n",
      "  Downloading duckdb-1.3.2-cp312-cp312-manylinux_2_27_x86_64.manylinux_2_28_x86_64.whl.metadata (7.0 kB)\n",
      "Downloading duckdb-1.3.2-cp312-cp312-manylinux_2_27_x86_64.manylinux_2_28_x86_64.whl (21.1 MB)\n",
      "\u001b[2K   \u001b[90m━━━━━━━━━━━━━━━━━━━━━━━━━━━━━━━━━━━━━━━━\u001b[0m \u001b[32m21.1/21.1 MB\u001b[0m \u001b[31m29.0 MB/s\u001b[0m  \u001b[33m0:00:00\u001b[0mm0:00:01\u001b[0m0:01\u001b[0m\n",
      "\u001b[?25hInstalling collected packages: duckdb\n",
      "Successfully installed duckdb-1.3.2\n"
     ]
    }
   ],
   "source": [
    "!pip install duckdb"
   ]
  },
  {
   "cell_type": "code",
   "execution_count": 3,
   "id": "afa7db7d",
   "metadata": {},
   "outputs": [
    {
     "name": "stdout",
     "output_type": "stream",
     "text": [
      "Collecting pandas\n",
      "  Downloading pandas-2.3.1-cp312-cp312-manylinux_2_17_x86_64.manylinux2014_x86_64.whl.metadata (91 kB)\n",
      "Collecting numpy>=1.26.0 (from pandas)\n",
      "  Downloading numpy-2.3.2-cp312-cp312-manylinux_2_27_x86_64.manylinux_2_28_x86_64.whl.metadata (62 kB)\n",
      "Requirement already satisfied: python-dateutil>=2.8.2 in /workspaces/Duck_Data/.venv/lib/python3.12/site-packages (from pandas) (2.9.0.post0)\n",
      "Requirement already satisfied: pytz>=2020.1 in /workspaces/Duck_Data/.venv/lib/python3.12/site-packages (from pandas) (2025.2)\n",
      "Requirement already satisfied: tzdata>=2022.7 in /workspaces/Duck_Data/.venv/lib/python3.12/site-packages (from pandas) (2025.2)\n",
      "Requirement already satisfied: six>=1.5 in /workspaces/Duck_Data/.venv/lib/python3.12/site-packages (from python-dateutil>=2.8.2->pandas) (1.17.0)\n",
      "Downloading pandas-2.3.1-cp312-cp312-manylinux_2_17_x86_64.manylinux2014_x86_64.whl (12.0 MB)\n",
      "\u001b[2K   \u001b[90m━━━━━━━━━━━━━━━━━━━━━━━━━━━━━━━━━━━━━━━━\u001b[0m \u001b[32m12.0/12.0 MB\u001b[0m \u001b[31m37.4 MB/s\u001b[0m  \u001b[33m0:00:00\u001b[0m6m0:00:01\u001b[0m\n",
      "\u001b[?25hDownloading numpy-2.3.2-cp312-cp312-manylinux_2_27_x86_64.manylinux_2_28_x86_64.whl (16.6 MB)\n",
      "\u001b[2K   \u001b[90m━━━━━━━━━━━━━━━━━━━━━━━━━━━━━━━━━━━━━━━━\u001b[0m \u001b[32m16.6/16.6 MB\u001b[0m \u001b[31m37.1 MB/s\u001b[0m  \u001b[33m0:00:00\u001b[0mm0:00:01\u001b[0m\n",
      "\u001b[?25hInstalling collected packages: numpy, pandas\n",
      "\u001b[2K   \u001b[90m━━━━━━━━━━━━━━━━━━━━━━━━━━━━━━━━━━━━━━━━\u001b[0m \u001b[32m2/2\u001b[0m [pandas]2m1/2\u001b[0m [pandas]\n",
      "\u001b[1A\u001b[2KSuccessfully installed numpy-2.3.2 pandas-2.3.1\n"
     ]
    }
   ],
   "source": [
    "!pip install pandas "
   ]
  },
  {
   "cell_type": "code",
   "execution_count": 4,
   "id": "6c84bc67",
   "metadata": {},
   "outputs": [
    {
     "name": "stdout",
     "output_type": "stream",
     "text": [
      "Collecting python-dotenv\n",
      "  Downloading python_dotenv-1.1.1-py3-none-any.whl.metadata (24 kB)\n",
      "Downloading python_dotenv-1.1.1-py3-none-any.whl (20 kB)\n",
      "Installing collected packages: python-dotenv\n",
      "Successfully installed python-dotenv-1.1.1\n"
     ]
    }
   ],
   "source": [
    "!pip install python-dotenv "
   ]
  },
  {
   "cell_type": "code",
   "execution_count": 5,
   "id": "7fcd5b1a",
   "metadata": {},
   "outputs": [
    {
     "name": "stdout",
     "output_type": "stream",
     "text": [
      "Current working directory: /workspaces/Duck_Data/notebook\n"
     ]
    }
   ],
   "source": [
    "import dlt \n",
    "import duckdb \n",
    "import pandas as pd \n",
    "import numpy as np \n",
    "from datetime import datetime \n",
    "import os \n",
    "from dotenv import load_dotenv \n",
    "\n",
    "load_dotenv()\n",
    "\n",
    "print(f\"Current working directory: {os.getcwd()}\")"
   ]
  },
  {
   "cell_type": "code",
   "execution_count": 6,
   "id": "091387eb",
   "metadata": {},
   "outputs": [
    {
     "name": "stdout",
     "output_type": "stream",
     "text": [
      "Pipeline name: test_data_pipeline\n",
      "Destination: <dlt.destinations.duckdb(destination_type='duckdb', staging_dataset_name_layout='%s_staging', enable_dataset_name_normalization=True, info_tables_query_threshold=1000, truncate_tables_on_staging_destination_before_load=True, local_dir='/workspaces/Duck_Data/notebook', pipeline_name='test_data_pipeline', pipeline_working_dir='/home/codespace/.dlt/pipelines/test_data_pipeline', create_indexes=False)>\n",
      "Dataset: my_data\n"
     ]
    }
   ],
   "source": [
    "pipeline = dlt.pipeline(\n",
    "    pipeline_name=\"test_data_pipeline\",\n",
    "    destination=\"duckdb\",\n",
    "    dataset_name=\"my_data\"    \n",
    ")\n",
    "\n",
    "print(f\"Pipeline name: {pipeline.pipeline_name}\")\n",
    "print(f\"Destination: {pipeline.destination}\")\n",
    "print(f\"Dataset: {pipeline.dataset_name}\")"
   ]
  },
  {
   "cell_type": "code",
   "execution_count": 12,
   "id": "7e00bb98",
   "metadata": {},
   "outputs": [],
   "source": [
    "def load_transform(): \n",
    "    df = pd.read_csv(\"../Data_source/sample.csv\")\n",
    "    print(f\"{len(df)} records loaded from CSV file.\")\n",
    "    print(f\"Columns: {list(df.columns)}\")\n",
    "    \n",
    "    print(f\"Null values:{df.isnull().sum().sum()}\")\n",
    "    print(f\"Duplicates rows: {df.duplicated().sum()}\")\n",
    "    print(f\"Date range: from {df['date'].min()} to {df['date'].max()}\")\n",
    "    \n",
    "    df['date'] = pd.to_datetime(df['date'])\n",
    "    df['total_revenue'] = df['quantity'] * df['price']\n",
    "    df['month']= df['date'].dt.month\n",
    "    df['day of week'] = df['date'].dt.day_name()\n",
    "\n",
    "    assert df['quantity'].min() > 0 #quantity must be positive \n",
    "    assert df ['price'].min() > 0 # price must be positive\n",
    "    assert df['total_revenue'].min() > 0 # total_revenue must be positive\n",
    "    \n",
    "    print(\"\\nData transformation completed.\")\n",
    "\n",
    "    for record in df.to_dict(orient='records'):\n",
    "        yield record \n",
    "    \n",
    "    "
   ]
  },
  {
   "cell_type": "code",
   "execution_count": 13,
   "id": "cb118c54",
   "metadata": {},
   "outputs": [
    {
     "name": "stdout",
     "output_type": "stream",
     "text": [
      "10 records loaded from CSV file.\n",
      "Columns: ['date', 'product', 'category', 'quantity', 'price', 'region']\n",
      "Null values:0\n",
      "Duplicates rows: 0\n",
      "Date range: from 2024-01-01 to 2024-01-05\n",
      "\n",
      "Data transformation completed.\n",
      "Load info:Pipeline test_data_pipeline load step completed in 1.15 seconds\n",
      "1 load package(s) were loaded to destination duckdb and into dataset my_data\n",
      "The duckdb destination used duckdb:////workspaces/Duck_Data/notebook/test_data_pipeline.duckdb location to store data\n",
      "Load package 1754456070.2569757 is LOADED and contains no failed jobs\n",
      "Load Info Type:<class 'dlt.common.pipeline.LoadInfo'>\n"
     ]
    }
   ],
   "source": [
    "info = pipeline.run(\n",
    "    load_transform(),\n",
    "    table_name = 'sample_data',\n",
    "    write_disposition = 'replace' #full load \n",
    ")\n",
    "\n",
    "print(f\"Load info:{info}\")\n",
    "print(f\"Load Info Type:{type(info)}\")"
   ]
  },
  {
   "cell_type": "code",
   "execution_count": 15,
   "id": "f06bbce0",
   "metadata": {},
   "outputs": [
    {
     "name": "stdout",
     "output_type": "stream",
     "text": [
      "db path:/workspaces/Duck_Data/notebook/test_data_pipeline.duckdb\n"
     ]
    }
   ],
   "source": [
    "duckdb_path = pipeline.sql_client().credentials.database\n",
    "print(f\"db path:{duckdb_path}\")"
   ]
  },
  {
   "cell_type": "code",
   "execution_count": 24,
   "id": "61fca7cd",
   "metadata": {},
   "outputs": [
    {
     "name": "stdout",
     "output_type": "stream",
     "text": [
      "Avaolable tables: \n",
      "\n",
      "  table_schema           table_name\n",
      "0      my_data          sample_data\n",
      "1      my_data           _dlt_loads\n",
      "2      my_data  _dlt_pipeline_state\n",
      "3      my_data         _dlt_version\n"
     ]
    }
   ],
   "source": [
    "con = duckdb.connect(duckdb_path) # connect to duckdb \n",
    "\n",
    "all_table = con.execute(\"\"\" \n",
    "    select table_schema, table_name\n",
    "    from information_schema.tables\n",
    "    where table_type = 'BASE TABLE' AND table_schema != 'information_schema'\n",
    "\"\"\").fetchdf()\n",
    "\n",
    "print(f\"Avaolable tables: \\n\\n{all_table}\")"
   ]
  },
  {
   "cell_type": "code",
   "execution_count": null,
   "id": "331e156b",
   "metadata": {},
   "outputs": [],
   "source": []
  }
 ],
 "metadata": {
  "kernelspec": {
   "display_name": ".venv",
   "language": "python",
   "name": "python3"
  },
  "language_info": {
   "codemirror_mode": {
    "name": "ipython",
    "version": 3
   },
   "file_extension": ".py",
   "mimetype": "text/x-python",
   "name": "python",
   "nbconvert_exporter": "python",
   "pygments_lexer": "ipython3",
   "version": "3.12.3"
  }
 },
 "nbformat": 4,
 "nbformat_minor": 5
}
